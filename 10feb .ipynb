{
 "cells": [
  {
   "cell_type": "markdown",
   "id": "7f6d04eb-2b5a-44f6-a1a8-b19ddf8d6081",
   "metadata": {},
   "source": [
    "Assignment 10 feb "
   ]
  },
  {
   "cell_type": "markdown",
   "id": "da9a967b-5034-468e-bd1a-63e9b641a7e0",
   "metadata": {},
   "source": [
    "Ques --1"
   ]
  },
  {
   "cell_type": "markdown",
   "id": "7b1b0a01-f296-475c-b1e6-1dba39f3c641",
   "metadata": {},
   "source": [
    "#The fopen() function opens the file specified by filename and associates a stream with it. The mode variable is a character string specifying the type of access requested for the file.\n",
    "\n",
    "\n",
    "\n",
    "r\tOpen a file for reading. (default)\n",
    "w\tOpen a file for writing. Creates a new file if it does not exist or truncates the file if it exists.\n",
    "x\tOpen a file for exclusive creation. If the file already exists, the operation fails.\n",
    "a\tOpen a file for appending at the end of the file without truncating it. Creates a new file if it does not exist.\n",
    "t\tOpen in text mode. (default)\n",
    "b\tOpen in binary mode.\n",
    "+\tOpen a file for updating (reading and writing)"
   ]
  },
  {
   "cell_type": "markdown",
   "id": "7de9f0f7-07a3-40e4-a1dd-ea92e49be9e5",
   "metadata": {},
   "source": [
    "Ques 2 "
   ]
  },
  {
   "cell_type": "code",
   "execution_count": 1,
   "id": "c1922a2d-bd5c-444b-b9fe-e0030e12022a",
   "metadata": {},
   "outputs": [],
   "source": [
    "#The close() function shall deallocate the file descriptor indicated by fildes. To deallocate means to make the file descriptor available for return by subsequent calls to open() or other functions that allocate file descriptors."
   ]
  },
  {
   "cell_type": "markdown",
   "id": "ec93c416-1573-4fcc-89d7-1381a4db86f8",
   "metadata": {},
   "source": [
    "Ques --3 "
   ]
  },
  {
   "cell_type": "code",
   "execution_count": 2,
   "id": "0ebc90a2-8fd6-4368-9f29-09ce42c6a922",
   "metadata": {},
   "outputs": [],
   "source": [
    "#creating a text file with the command function \"w\" f = open(\"myfile.txt\", \"w\") #This \"w\" command can also be used create a new file but unlike the the \"x\" command the \"w\" command will overwrite any existing file found with the same file name.\n",
    "\n"
   ]
  },
  {
   "cell_type": "markdown",
   "id": "882fa00a-6f0a-4bdd-976f-260599cb99e7",
   "metadata": {},
   "source": [
    "Ques --4\n"
   ]
  },
  {
   "cell_type": "code",
   "execution_count": 3,
   "id": "8aa9948b-7b0f-4945-80fe-e417eb1a7349",
   "metadata": {},
   "outputs": [],
   "source": [
    "#Python readline() method will return a line from the file when called. readlines() method will return all the lines in a file in the format of a list where each element is a line in the file."
   ]
  },
  {
   "cell_type": "markdown",
   "id": "e5a75ef4-3293-494e-a04c-1d5f8462be07",
   "metadata": {},
   "source": [
    "Ques--5"
   ]
  },
  {
   "cell_type": "code",
   "execution_count": 4,
   "id": "f36e96e6-15e7-49eb-9797-4312f125c979",
   "metadata": {},
   "outputs": [],
   "source": [
    "\n",
    "#The with statement works with the open() function to open a file. Unlike open() where you have to close the file with the close() method, the with statement closes the file for you without you telling it to. This is because the with statement calls 2 built-in methods behind the scene – __enter()__ and __exit()__"
   ]
  },
  {
   "cell_type": "code",
   "execution_count": null,
   "id": "71aa0e6c-0595-4efd-8186-5c0ff5fc3b4a",
   "metadata": {},
   "outputs": [],
   "source": []
  }
 ],
 "metadata": {
  "kernelspec": {
   "display_name": "Python 3 (ipykernel)",
   "language": "python",
   "name": "python3"
  },
  "language_info": {
   "codemirror_mode": {
    "name": "ipython",
    "version": 3
   },
   "file_extension": ".py",
   "mimetype": "text/x-python",
   "name": "python",
   "nbconvert_exporter": "python",
   "pygments_lexer": "ipython3",
   "version": "3.10.8"
  }
 },
 "nbformat": 4,
 "nbformat_minor": 5
}
